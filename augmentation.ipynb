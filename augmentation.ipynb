{
 "cells": [
  {
   "cell_type": "code",
   "execution_count": 1,
   "metadata": {},
   "outputs": [],
   "source": [
    "# References\n",
    "# https://towardsdatascience.com/complete-image-augmentation-in-opencv-31a6b02694f5\n",
    "# https://theailearner.com/2019/05/07/add-different-noise-to-an-image/\n",
    "# https://www.kaggle.com/parulpandey/overview-of-popular-image-augmentation-packages"
   ]
  },
  {
   "cell_type": "code",
   "execution_count": 2,
   "metadata": {},
   "outputs": [],
   "source": [
    "%matplotlib inline\n",
    "import matplotlib.pyplot as plt\n",
    "import os\n",
    "import numpy as np\n",
    "import cv2\n",
    "import random"
   ]
  },
  {
   "cell_type": "code",
   "execution_count": 61,
   "metadata": {},
   "outputs": [],
   "source": [
    "data_dir = \"data_mip3/train/no_connection\"\n",
    "out_dir = \"data_mip3_aug/train/no_connection\""
   ]
  },
  {
   "cell_type": "code",
   "execution_count": 4,
   "metadata": {},
   "outputs": [],
   "source": [
    "def rotation(img, angle):\n",
    "    #angle = int(random.uniform(-angle, angle))\n",
    "    h, w = img.shape[:2]\n",
    "    M = cv2.getRotationMatrix2D((int(w/2), int(h/2)), angle, 1)\n",
    "    img = cv2.warpAffine(img, M, (w, h))\n",
    "    return img"
   ]
  },
  {
   "cell_type": "code",
   "execution_count": 5,
   "metadata": {},
   "outputs": [],
   "source": [
    "def add_light(image, gamma):\n",
    "    invGamma = 1.0 / gamma\n",
    "    table = np.array([((i / 255.0) ** invGamma) * 255 for i in np.arange(0, 256)]).astype(\"uint8\")\n",
    "    image=cv2.LUT(image, table)\n",
    "    return image"
   ]
  },
  {
   "cell_type": "code",
   "execution_count": 6,
   "metadata": {},
   "outputs": [],
   "source": [
    "def gaussian_blur(image, rad, blur):\n",
    "    image = cv2.GaussianBlur(image,(rad,rad),blur)\n",
    "    return image"
   ]
  },
  {
   "cell_type": "code",
   "execution_count": 7,
   "metadata": {},
   "outputs": [],
   "source": [
    "def gaussian_noise(img, amount):\n",
    "    # Generate Gaussian noise\n",
    "    gauss = np.random.normal(0,amount,img.size)\n",
    "    gauss = gauss.reshape(img.shape[0],img.shape[1]).astype('uint8')\n",
    "    # Add the Gaussian noise to the image\n",
    "    img_gauss = cv2.add(img,gauss)\n",
    "    return img_gauss"
   ]
  },
  {
   "cell_type": "code",
   "execution_count": 8,
   "metadata": {},
   "outputs": [],
   "source": [
    "def specle_noise(img, std):\n",
    "    gauss = np.random.normal(0,std,img.size)\n",
    "    gauss = gauss.reshape(img.shape[0],img.shape[1]).astype('uint8')\n",
    "    noise = img + img * gauss\n",
    "    return noise"
   ]
  },
  {
   "cell_type": "code",
   "execution_count": 12,
   "metadata": {},
   "outputs": [],
   "source": [
    "def contrast(img, contrast):\n",
    "    if contrast != 0:\n",
    "        f = 131*(contrast + 127)/(127*(131-contrast))\n",
    "        alpha_c = f\n",
    "        gamma_c = 127*(1-f)\n",
    "        \n",
    "        img = cv2.addWeighted(img, alpha_c, img, 0, gamma_c)\n",
    "    return(img)"
   ]
  },
  {
   "cell_type": "code",
   "execution_count": 62,
   "metadata": {},
   "outputs": [],
   "source": [
    "def augment(img):\n",
    "    # Perform augmentation of image\n",
    "    \n",
    "    # Perform uniform transformations (ut) of the image.\n",
    "    # Uniform transformations are the transformations where all pixels are treated uniformly.\n",
    "    img_ut = []\n",
    "    \n",
    "    # Original\n",
    "    img_ut.append(img)\n",
    "    \n",
    "    # Flip\n",
    "    img_ut.append(cv2.flip(img, 0))# Vertical\n",
    "    img_ut.append(cv2.flip(img, 1))# Horizontal\n",
    "    \n",
    "    # Rotate 90 degrees\n",
    "    #img_ut.append(cv2.rotate(img, cv2.ROTATE_90_CLOCKWISE))\n",
    "    #img_ut.append(cv2.rotate(img, cv2.ROTATE_90_COUNTERCLOCKWISE))\n",
    "\n",
    "    # Rotate 5, 10, 15, 20, 25, 30  degrees\n",
    "    #for angle in [10, 20, 30]:\n",
    "    #    img_ut.append(rotation(img, angle))\n",
    "\n",
    "    # Add light (change brightness)\n",
    "    img_ut.append(add_light(img, 2))\n",
    "    img_ut.append(add_light(img, 3))\n",
    "    img_ut.append(add_light(img, 0.5))\n",
    "    img_ut.append(add_light(img, 0.3))\n",
    "\n",
    "    # Change contrast\n",
    "    img_ut.append(contrast(img, 50))\n",
    "    img_ut.append(contrast(img, 70))\n",
    "\n",
    "    # Perform non-uniform transformations (nut) on all the uniform tranform images\n",
    "    img_nut = []\n",
    "    for image in img_ut:\n",
    "        # Guassian blur\n",
    "        img_nut.append(gaussian_blur(image, 3, 0))\n",
    "        #img_nut.append(gaussian_blur(image, 5, 0)) # This is too much bluring\n",
    "\n",
    "        # Noise\n",
    "        img_nut.append(gaussian_noise(image, 0.3))\n",
    "        #img_nut.append(gaussian_noise(image, 0.4)) # This may be too much noise\n",
    "        img_nut.append(specle_noise(image, 0.3))\n",
    "        #img_nut.append(specle_noise(image, 0.4)) # This may be too much noise\n",
    "\n",
    "    #print(len(img_ut), len(img_nut))\n",
    "    return(img_ut+img_nut)\n"
   ]
  },
  {
   "cell_type": "code",
   "execution_count": 63,
   "metadata": {},
   "outputs": [
    {
     "name": "stdout",
     "output_type": "stream",
     "text": [
      "Total number of images processed: 17010\n"
     ]
    }
   ],
   "source": [
    "# Run augmentation on all files in the data_dir\n",
    "cnt = 0\n",
    "for filename in os.listdir(data_dir):\n",
    "    #print(filename)\n",
    "    img = cv2.imread(data_dir+\"/\"+filename, 0)\n",
    "    #print(img.shape)\n",
    "    images = augment(img)\n",
    "    #print(\"Total number of augmented images =\", len(images))\n",
    "    fname = filename.replace(\".png\",\"\")\n",
    "    i = 0\n",
    "    for image in images:\n",
    "        cv2.imwrite(out_dir + \"/\" + fname + \"_\" + str(i) + \".png\", image)\n",
    "        i += 1\n",
    "    cnt += 1\n",
    "    #break\n",
    "print(\"Total number of images processed:\", cnt)"
   ]
  },
  {
   "cell_type": "code",
   "execution_count": null,
   "metadata": {},
   "outputs": [],
   "source": []
  },
  {
   "cell_type": "code",
   "execution_count": 225,
   "metadata": {},
   "outputs": [],
   "source": [
    "# Check augmented images\n",
    "#plt.figure(figsize=(50, 50))\n",
    "#for i in range(0, len(img_augmented)):\n",
    "#    ax = plt.subplot(11, 10, i+1)\n",
    "#    #print(images[i].shape)\n",
    "#    plt.imshow(img_augmented[i], cmap=plt.get_cmap(\"gray\"))\n",
    "#    plt.axis(\"off\")\n"
   ]
  },
  {
   "cell_type": "code",
   "execution_count": null,
   "metadata": {},
   "outputs": [],
   "source": []
  }
 ],
 "metadata": {
  "kernelspec": {
   "display_name": "tf_gpu",
   "language": "python",
   "name": "tf_gpu"
  },
  "language_info": {
   "codemirror_mode": {
    "name": "ipython",
    "version": 3
   },
   "file_extension": ".py",
   "mimetype": "text/x-python",
   "name": "python",
   "nbconvert_exporter": "python",
   "pygments_lexer": "ipython3",
   "version": "3.7.9"
  }
 },
 "nbformat": 4,
 "nbformat_minor": 4
}
