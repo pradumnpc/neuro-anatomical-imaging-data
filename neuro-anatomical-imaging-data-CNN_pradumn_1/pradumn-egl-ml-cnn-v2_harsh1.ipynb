{
 "cells": [
  {
   "cell_type": "markdown",
   "metadata": {},
   "source": [
    "## Load packages \n",
    "We load the packages used for the analysis"
   ]
  },
  {
   "cell_type": "code",
   "execution_count": 18,
   "metadata": {
    "_cell_guid": "b1076dfc-b9ad-4769-8c92-a6c4dae69d19",
    "_uuid": "8f2839f25d086af736a60e9eeb907d3b93b6e0e5"
   },
   "outputs": [
    {
     "name": "stdout",
     "output_type": "stream",
     "text": [
      "/kaggle/input contains 0 files.\n",
      "/kaggle/input/p7eglmltilesshiftrotate contains 0 files.\n",
      "/kaggle/input/p7eglmltilesshiftrotate/P7-EGL-ML-tiles-shift-rotate contains 1 files.\n",
      "/kaggle/input/p7eglmltilesshiftrotate/P7-EGL-ML-tiles-shift-rotate/test contains 0 files.\n",
      "/kaggle/input/p7eglmltilesshiftrotate/P7-EGL-ML-tiles-shift-rotate/test/EGL contains 270 files.\n",
      "/kaggle/input/p7eglmltilesshiftrotate/P7-EGL-ML-tiles-shift-rotate/test/ML contains 270 files.\n",
      "/kaggle/input/p7eglmltilesshiftrotate/P7-EGL-ML-tiles-shift-rotate/train contains 0 files.\n",
      "/kaggle/input/p7eglmltilesshiftrotate/P7-EGL-ML-tiles-shift-rotate/train/EGL contains 1080 files.\n",
      "/kaggle/input/p7eglmltilesshiftrotate/P7-EGL-ML-tiles-shift-rotate/train/ML contains 1080 files.\n"
     ]
    }
   ],
   "source": [
    "# This Python 3 environment comes with many helpful analytics libraries installed\n",
    "# It is defined by the kaggle/python Docker image: https://github.com/kaggle/docker-python\n",
    "# For example, here's several helpful packages to load\n",
    "\n",
    "import numpy as np # linear algebra\n",
    "import pandas as pd # data processing, CSV file I/O (e.g. pd.read_csv)\n",
    "\n",
    "# Input data files are available in the read-only \"../input/\" directory\n",
    "# For example, running this (by clicking run or pressing Shift+Enter) will list all files under the input directory\n",
    "\n",
    "import os\n",
    "import cv2\n",
    "import matplotlib.pyplot as plt\n",
    "import random\n",
    "import matplotlib.pyplot as plt\n",
    "import glob \n",
    "from keras.models import Model,Sequential\n",
    "from tensorflow.keras.callbacks import EarlyStopping\n",
    "from tensorflow.keras import layers\n",
    "from tensorflow.keras.optimizers import RMSprop, Adam\n",
    "from keras.layers import Dense, Flatten , Conv2D, MaxPooling2D, Dropout, InputLayer\n",
    "from keras.layers.normalization import BatchNormalization\n",
    "from tensorflow.keras.preprocessing.image import ImageDataGenerator, img_to_array, load_img, array_to_img\n",
    "import os \n",
    "from sklearn import preprocessing\n",
    "import matplotlib.pyplot as plt\n",
    "import seaborn as sns\n",
    "import tensorflow as tf\n",
    "for dirname, _, filenames in os.walk('/kaggle/input'):\n",
    "     print(dirname, \"contains\", len(filenames), \"files.\")\n",
    "#     for filename in filenames:\n",
    "#         print(os.path.join(dirname, filename))\n",
    "\n",
    "# You can write up to 20GB to the current directory (/kaggle/working/) that gets preserved as output when you create a version using \"Save & Run All\" \n",
    "# You can also write temporary files to /kaggle/temp/, but they won't be saved outside of the current session"
   ]
  },
  {
   "cell_type": "code",
   "execution_count": 2,
   "metadata": {},
   "outputs": [
    {
     "data": {
      "text/plain": [
       "'2.4.1'"
      ]
     },
     "execution_count": 2,
     "metadata": {},
     "output_type": "execute_result"
    }
   ],
   "source": [
    "tf.__version__"
   ]
  },
  {
   "cell_type": "code",
   "execution_count": 3,
   "metadata": {},
   "outputs": [
    {
     "name": "stdout",
     "output_type": "stream",
     "text": [
      "Found GPU at: /device:GPU:0\n"
     ]
    }
   ],
   "source": [
    "# Check if tensorflow can find GPU\n",
    "device_name = tf.test.gpu_device_name()\n",
    "if \"GPU\" not in device_name:\n",
    "    print(\"GPU device not found\")\n",
    "print('Found GPU at: {}'.format(device_name))"
   ]
  },
  {
   "cell_type": "code",
   "execution_count": 4,
   "metadata": {},
   "outputs": [
    {
     "name": "stdout",
     "output_type": "stream",
     "text": [
      "Name: /physical_device:GPU:0   Type: GPU\n",
      "[PhysicalDevice(name='/physical_device:GPU:0', device_type='GPU')]\n"
     ]
    }
   ],
   "source": [
    "gpus = tf.config.experimental.list_physical_devices('GPU')\n",
    "for gpu in gpus:\n",
    "    print(\"Name:\", gpu.name, \"  Type:\", gpu.device_type)\n",
    "print(gpus)"
   ]
  },
  {
   "cell_type": "code",
   "execution_count": 5,
   "metadata": {},
   "outputs": [
    {
     "data": {
      "text/plain": [
       "[name: \"/device:CPU:0\"\n",
       " device_type: \"CPU\"\n",
       " memory_limit: 268435456\n",
       " locality {\n",
       " }\n",
       " incarnation: 13960851936296883786,\n",
       " name: \"/device:GPU:0\"\n",
       " device_type: \"GPU\"\n",
       " memory_limit: 15685569792\n",
       " locality {\n",
       "   bus_id: 1\n",
       "   links {\n",
       "   }\n",
       " }\n",
       " incarnation: 17715876403038843378\n",
       " physical_device_desc: \"device: 0, name: Tesla P100-PCIE-16GB, pci bus id: 0000:00:04.0, compute capability: 6.0\"]"
      ]
     },
     "execution_count": 5,
     "metadata": {},
     "output_type": "execute_result"
    }
   ],
   "source": [
    "from tensorflow.python.client import device_lib\n",
    "\n",
    "device_lib.list_local_devices()"
   ]
  },
  {
   "cell_type": "code",
   "execution_count": 6,
   "metadata": {},
   "outputs": [
    {
     "data": {
      "text/plain": [
       "True"
      ]
     },
     "execution_count": 6,
     "metadata": {},
     "output_type": "execute_result"
    }
   ],
   "source": [
    "tf.test.is_gpu_available()"
   ]
  },
  {
   "cell_type": "code",
   "execution_count": 7,
   "metadata": {},
   "outputs": [
    {
     "name": "stdout",
     "output_type": "stream",
     "text": [
      "Tue Mar  2 11:26:19 2021       \r\n",
      "+-----------------------------------------------------------------------------+\r\n",
      "| NVIDIA-SMI 450.51.06    Driver Version: 450.51.06    CUDA Version: 11.0     |\r\n",
      "|-------------------------------+----------------------+----------------------+\r\n",
      "| GPU  Name        Persistence-M| Bus-Id        Disp.A | Volatile Uncorr. ECC |\r\n",
      "| Fan  Temp  Perf  Pwr:Usage/Cap|         Memory-Usage | GPU-Util  Compute M. |\r\n",
      "|                               |                      |               MIG M. |\r\n",
      "|===============================+======================+======================|\r\n",
      "|   0  Tesla P100-PCIE...  Off  | 00000000:00:04.0 Off |                    0 |\r\n",
      "| N/A   39C    P0    33W / 250W |    367MiB / 16280MiB |      0%      Default |\r\n",
      "|                               |                      |                  N/A |\r\n",
      "+-------------------------------+----------------------+----------------------+\r\n",
      "                                                                               \r\n",
      "+-----------------------------------------------------------------------------+\r\n",
      "| Processes:                                                                  |\r\n",
      "|  GPU   GI   CI        PID   Type   Process name                  GPU Memory |\r\n",
      "|        ID   ID                                                   Usage      |\r\n",
      "|=============================================================================|\r\n",
      "+-----------------------------------------------------------------------------+\r\n"
     ]
    }
   ],
   "source": [
    "!nvidia-smi"
   ]
  },
  {
   "cell_type": "markdown",
   "metadata": {},
   "source": [
    "## Load data\n"
   ]
  },
  {
   "cell_type": "code",
   "execution_count": 8,
   "metadata": {},
   "outputs": [],
   "source": [
    "train_data = '/kaggle/input/p7eglmltilesshiftrotate/P7-EGL-ML-tiles-shift-rotate/train'\n",
    "test_data = '/kaggle/input/p7eglmltilesshiftrotate/P7-EGL-ML-tiles-shift-rotate/test'\n",
    "batch_size = 128\n",
    "img_height = 300\n",
    "img_width = 300"
   ]
  },
  {
   "cell_type": "markdown",
   "metadata": {},
   "source": [
    "## Split train data\n",
    "spliting train data into **train** and **validation** with 80:30 ratio"
   ]
  },
  {
   "cell_type": "code",
   "execution_count": 9,
   "metadata": {},
   "outputs": [
    {
     "name": "stdout",
     "output_type": "stream",
     "text": [
      "Found 1512 images belonging to 2 classes.\n",
      "Found 648 images belonging to 2 classes.\n"
     ]
    }
   ],
   "source": [
    "from keras.preprocessing.image import ImageDataGenerator\n",
    "datagen = ImageDataGenerator(samplewise_center=True, samplewise_std_normalization=True,\n",
    "                             #rescale=1./255, \n",
    "                             #rotation_range = 40,\n",
    "                             #width_shift_range = 0.2,\n",
    "                             #height_shift_range = 0.2,\n",
    "                             #horizontal_flip=True,\n",
    "                             #vertical_flip=True,\n",
    "                             validation_split=0.3,\n",
    "                             #fill_mode = 'nearest'\n",
    "                            )\n",
    "\n",
    "train_generator = datagen.flow_from_directory(\n",
    "    train_data,\n",
    "    shuffle=True,\n",
    "    target_size = (300,300),\n",
    "    batch_size = batch_size,\n",
    "    class_mode = 'binary',\n",
    "    color_mode='grayscale',\n",
    "    subset = 'training'\n",
    ")\n",
    "\n",
    "validation_generator = datagen.flow_from_directory(\n",
    "    train_data,\n",
    "     shuffle=True,\n",
    "    target_size = (300,300),\n",
    "    batch_size = batch_size,\n",
    "    class_mode = 'binary',\n",
    "    color_mode='grayscale',\n",
    "    subset = 'validation'\n",
    ")"
   ]
  },
  {
   "cell_type": "code",
   "execution_count": 10,
   "metadata": {},
   "outputs": [
    {
     "name": "stdout",
     "output_type": "stream",
     "text": [
      "Found 540 images belonging to 2 classes.\n"
     ]
    }
   ],
   "source": [
    "test_datagen = ImageDataGenerator(samplewise_center=True, samplewise_std_normalization=True,\n",
    "                             #rescale=1./255, \n",
    "                             #rotation_range = 40,\n",
    "                             #width_shift_range = 0.2,\n",
    "                             #height_shift_range = 0.2,\n",
    "                             #horizontal_flip=True,\n",
    "                             #vertical_flip=True,\n",
    "                             #validation_split=0.3,\n",
    "                             #fill_mode = 'nearest'\n",
    "                                 )\n",
    "\n",
    "test_generator = datagen.flow_from_directory(\n",
    "    test_data,\n",
    "    #shuffle=True,\n",
    "    target_size = (300,300),\n",
    "    batch_size = batch_size,\n",
    "    class_mode = 'binary',\n",
    "    color_mode='grayscale'\n",
    ")"
   ]
  },
  {
   "cell_type": "code",
   "execution_count": 11,
   "metadata": {},
   "outputs": [],
   "source": [
    "augmented_images = [train_generator[0][0][0] for i in range(6)]\n",
    "#plotImages(augmented_images)\n",
    "#plt.imshow(augmented_images[0])"
   ]
  },
  {
   "cell_type": "markdown",
   "metadata": {},
   "source": [
    "\n",
    "## Model Creation \n",
    "### Define the model "
   ]
  },
  {
   "cell_type": "code",
   "execution_count": 12,
   "metadata": {},
   "outputs": [
    {
     "name": "stdout",
     "output_type": "stream",
     "text": [
      "Model: \"sequential\"\n",
      "_________________________________________________________________\n",
      "Layer (type)                 Output Shape              Param #   \n",
      "=================================================================\n",
      "conv2d (Conv2D)              (None, 298, 298, 32)      320       \n",
      "_________________________________________________________________\n",
      "max_pooling2d (MaxPooling2D) (None, 149, 149, 32)      0         \n",
      "_________________________________________________________________\n",
      "conv2d_1 (Conv2D)            (None, 147, 147, 64)      18496     \n",
      "_________________________________________________________________\n",
      "max_pooling2d_1 (MaxPooling2 (None, 73, 73, 64)        0         \n",
      "_________________________________________________________________\n",
      "conv2d_2 (Conv2D)            (None, 71, 71, 128)       73856     \n",
      "_________________________________________________________________\n",
      "max_pooling2d_2 (MaxPooling2 (None, 35, 35, 128)       0         \n",
      "_________________________________________________________________\n",
      "conv2d_3 (Conv2D)            (None, 33, 33, 256)       295168    \n",
      "_________________________________________________________________\n",
      "max_pooling2d_3 (MaxPooling2 (None, 16, 16, 256)       0         \n",
      "_________________________________________________________________\n",
      "flatten (Flatten)            (None, 65536)             0         \n",
      "_________________________________________________________________\n",
      "dropout (Dropout)            (None, 65536)             0         \n",
      "_________________________________________________________________\n",
      "dense (Dense)                (None, 512)               33554944  \n",
      "_________________________________________________________________\n",
      "batch_normalization (BatchNo (None, 512)               2048      \n",
      "_________________________________________________________________\n",
      "dense_1 (Dense)              (None, 1)                 513       \n",
      "=================================================================\n",
      "Total params: 33,945,345\n",
      "Trainable params: 33,944,321\n",
      "Non-trainable params: 1,024\n",
      "_________________________________________________________________\n"
     ]
    }
   ],
   "source": [
    "#Define model\n",
    "model=tf.keras.Sequential(\n",
    "    [\n",
    "        tf.keras.layers.InputLayer(input_shape=(img_height, img_width, 1)),\n",
    "        ###keras.layers.Conv2D(32,(3,3), activation='relu', input_shape=input_shape),\n",
    "        tf.keras.layers.Conv2D(32,(3,3),activation='relu'),\n",
    "        tf.keras.layers.MaxPool2D((2,2)),\n",
    "        tf.keras.layers.Conv2D(64,(3,3),activation='relu'),\n",
    "        tf.keras.layers.MaxPool2D(2,2),\n",
    "        tf.keras.layers.Conv2D(128,(3,3),activation='relu'),\n",
    "        tf.keras.layers.MaxPool2D(2,2),\n",
    "        tf.keras.layers.Conv2D(256,(3,3),activation='relu'),\n",
    "        tf.keras.layers.MaxPool2D(2,2),\n",
    "        tf.keras.layers.Flatten(),\n",
    "        tf.keras.layers.Dropout(0.5),\n",
    "        tf.keras.layers.Dense(512, activation='relu'),\n",
    "        tf.keras.layers.BatchNormalization(),\n",
    "        #tf.keras.layers.Dense(1024, activation='relu'),\n",
    "        #tf.keras.layers.BatchNormalization(),\n",
    "        #tf.keras.layers.Dense(256, activation='relu'),\n",
    "        #tf.keras.layers.BatchNormalization(),\n",
    "        tf.keras.layers.Dense(1, activation='sigmoid')\n",
    "    ])\n",
    "\n",
    "opt = tf.keras.optimizers.Adam(learning_rate=0.0001)\n",
    "\n",
    "#Compile the model\n",
    "model.compile(\n",
    "              optimizer=opt, \n",
    "              #optimizer='adam', \n",
    "              loss='binary_crossentropy',\n",
    "              #loss='categorical_crossentropy',\n",
    "              metrics=['acc']\n",
    "              #metrics=['accuracy', 'f1score', 'precision', 'recall']\n",
    "             )\n",
    "\n",
    "#Print model summary\n",
    "model.summary()\n",
    "\n"
   ]
  },
  {
   "cell_type": "markdown",
   "metadata": {},
   "source": [
    "## Train cnn model "
   ]
  },
  {
   "cell_type": "code",
   "execution_count": 13,
   "metadata": {},
   "outputs": [
    {
     "name": "stdout",
     "output_type": "stream",
     "text": [
      "Epoch 1/50\n",
      "12/12 [==============================] - 21s 1s/step - loss: 0.5067 - acc: 0.7422 - val_loss: 0.8091 - val_acc: 0.5000\n",
      "Epoch 2/50\n",
      "12/12 [==============================] - 9s 797ms/step - loss: 0.1089 - acc: 0.9669 - val_loss: 2.6555 - val_acc: 0.5000\n",
      "Epoch 3/50\n",
      "12/12 [==============================] - 10s 842ms/step - loss: 0.0679 - acc: 0.9844 - val_loss: 3.2254 - val_acc: 0.5000\n",
      "Epoch 4/50\n",
      "12/12 [==============================] - 10s 825ms/step - loss: 0.0528 - acc: 0.9870 - val_loss: 1.2656 - val_acc: 0.5000\n",
      "Epoch 5/50\n",
      "12/12 [==============================] - 9s 801ms/step - loss: 0.0348 - acc: 0.9923 - val_loss: 2.6940 - val_acc: 0.5000\n",
      "Epoch 6/50\n",
      "12/12 [==============================] - 9s 787ms/step - loss: 0.0258 - acc: 0.9927 - val_loss: 1.9072 - val_acc: 0.5000\n",
      "Epoch 7/50\n",
      "12/12 [==============================] - 10s 836ms/step - loss: 0.0200 - acc: 0.9922 - val_loss: 0.8245 - val_acc: 0.5772\n",
      "Epoch 8/50\n",
      "12/12 [==============================] - 9s 801ms/step - loss: 0.0128 - acc: 0.9967 - val_loss: 1.6978 - val_acc: 0.5000\n",
      "Epoch 9/50\n",
      "12/12 [==============================] - 10s 806ms/step - loss: 0.0076 - acc: 0.9977 - val_loss: 0.3676 - val_acc: 0.8056\n",
      "Epoch 10/50\n",
      "12/12 [==============================] - 10s 830ms/step - loss: 0.0059 - acc: 0.9976 - val_loss: 0.8387 - val_acc: 0.6127\n",
      "Epoch 11/50\n",
      "12/12 [==============================] - 9s 795ms/step - loss: 0.0020 - acc: 1.0000 - val_loss: 0.1193 - val_acc: 0.9676\n",
      "Epoch 12/50\n",
      "12/12 [==============================] - 10s 804ms/step - loss: 0.0046 - acc: 0.9983 - val_loss: 0.1001 - val_acc: 0.9722\n",
      "Epoch 13/50\n",
      "12/12 [==============================] - 10s 855ms/step - loss: 0.0030 - acc: 0.9998 - val_loss: 0.3331 - val_acc: 0.8241\n",
      "Epoch 14/50\n",
      "12/12 [==============================] - 9s 793ms/step - loss: 0.0046 - acc: 0.9977 - val_loss: 0.1259 - val_acc: 0.9506\n",
      "Epoch 15/50\n",
      "12/12 [==============================] - 10s 794ms/step - loss: 0.0011 - acc: 1.0000 - val_loss: 0.5301 - val_acc: 0.7515\n",
      "Epoch 16/50\n",
      "12/12 [==============================] - 10s 807ms/step - loss: 0.0012 - acc: 0.9998 - val_loss: 0.0461 - val_acc: 0.9892\n",
      "Epoch 17/50\n",
      "12/12 [==============================] - 10s 809ms/step - loss: 0.0026 - acc: 0.9992 - val_loss: 0.0325 - val_acc: 0.9969\n",
      "Epoch 18/50\n",
      "12/12 [==============================] - 10s 805ms/step - loss: 0.0010 - acc: 1.0000 - val_loss: 0.1088 - val_acc: 0.9522\n",
      "Epoch 19/50\n",
      "12/12 [==============================] - 9s 795ms/step - loss: 9.8401e-04 - acc: 1.0000 - val_loss: 0.0734 - val_acc: 0.9753\n",
      "Epoch 20/50\n",
      "12/12 [==============================] - 10s 855ms/step - loss: 6.9667e-04 - acc: 1.0000 - val_loss: 0.0620 - val_acc: 0.9799\n",
      "Epoch 21/50\n",
      "12/12 [==============================] - 10s 824ms/step - loss: 7.2227e-04 - acc: 1.0000 - val_loss: 0.0383 - val_acc: 0.9923\n",
      "Epoch 22/50\n",
      "12/12 [==============================] - 9s 795ms/step - loss: 8.2673e-04 - acc: 1.0000 - val_loss: 0.1358 - val_acc: 0.9475\n",
      "Epoch 23/50\n",
      "12/12 [==============================] - 10s 818ms/step - loss: 0.0012 - acc: 1.0000 - val_loss: 0.0297 - val_acc: 0.9877\n",
      "Epoch 24/50\n",
      "12/12 [==============================] - 10s 813ms/step - loss: 4.6720e-04 - acc: 1.0000 - val_loss: 0.0175 - val_acc: 0.9954\n",
      "Epoch 25/50\n",
      "12/12 [==============================] - 10s 814ms/step - loss: 6.9830e-04 - acc: 1.0000 - val_loss: 0.0137 - val_acc: 0.9969\n",
      "Epoch 26/50\n",
      "12/12 [==============================] - 10s 851ms/step - loss: 8.7375e-04 - acc: 1.0000 - val_loss: 0.1522 - val_acc: 0.9429\n",
      "Epoch 27/50\n",
      "12/12 [==============================] - 10s 812ms/step - loss: 5.9857e-04 - acc: 1.0000 - val_loss: 0.0250 - val_acc: 0.9923\n",
      "Epoch 28/50\n",
      "12/12 [==============================] - 9s 793ms/step - loss: 8.8146e-04 - acc: 1.0000 - val_loss: 0.0188 - val_acc: 0.9954\n",
      "Epoch 29/50\n",
      "12/12 [==============================] - 10s 806ms/step - loss: 4.7996e-04 - acc: 1.0000 - val_loss: 0.0148 - val_acc: 0.9954\n",
      "Epoch 30/50\n",
      "12/12 [==============================] - 10s 831ms/step - loss: 5.9002e-04 - acc: 1.0000 - val_loss: 0.0184 - val_acc: 0.9938\n",
      "Epoch 31/50\n",
      "12/12 [==============================] - 9s 788ms/step - loss: 3.4067e-04 - acc: 1.0000 - val_loss: 0.0144 - val_acc: 0.9954\n",
      "Epoch 32/50\n",
      "12/12 [==============================] - 10s 813ms/step - loss: 4.1449e-04 - acc: 1.0000 - val_loss: 0.0804 - val_acc: 0.9722\n",
      "Epoch 33/50\n",
      "12/12 [==============================] - 10s 844ms/step - loss: 5.2158e-04 - acc: 1.0000 - val_loss: 0.0117 - val_acc: 0.9954\n",
      "Epoch 34/50\n",
      "12/12 [==============================] - 10s 834ms/step - loss: 7.5895e-04 - acc: 1.0000 - val_loss: 0.0258 - val_acc: 0.9923\n",
      "Epoch 35/50\n",
      "12/12 [==============================] - 10s 808ms/step - loss: 2.9168e-04 - acc: 1.0000 - val_loss: 0.0278 - val_acc: 0.9892\n",
      "Epoch 36/50\n",
      "12/12 [==============================] - 10s 840ms/step - loss: 4.5299e-04 - acc: 1.0000 - val_loss: 0.0202 - val_acc: 0.9907\n",
      "Epoch 37/50\n",
      "12/12 [==============================] - 10s 805ms/step - loss: 2.6124e-04 - acc: 1.0000 - val_loss: 0.0155 - val_acc: 0.9969\n",
      "Epoch 38/50\n",
      "12/12 [==============================] - 10s 830ms/step - loss: 1.7298e-04 - acc: 1.0000 - val_loss: 0.0351 - val_acc: 0.9830\n",
      "Epoch 39/50\n",
      "12/12 [==============================] - 9s 790ms/step - loss: 3.1066e-04 - acc: 1.0000 - val_loss: 0.0146 - val_acc: 0.9954\n",
      "Epoch 40/50\n",
      "12/12 [==============================] - 10s 827ms/step - loss: 2.5266e-04 - acc: 1.0000 - val_loss: 0.0235 - val_acc: 0.9907\n",
      "Epoch 41/50\n",
      "12/12 [==============================] - 10s 805ms/step - loss: 5.6470e-04 - acc: 1.0000 - val_loss: 0.0054 - val_acc: 1.0000\n",
      "Epoch 42/50\n",
      "12/12 [==============================] - 10s 816ms/step - loss: 4.6530e-04 - acc: 1.0000 - val_loss: 0.0039 - val_acc: 1.0000\n",
      "Epoch 43/50\n",
      "12/12 [==============================] - 10s 839ms/step - loss: 2.8580e-04 - acc: 1.0000 - val_loss: 0.0208 - val_acc: 0.9892\n",
      "Epoch 44/50\n",
      "12/12 [==============================] - 10s 806ms/step - loss: 2.0304e-04 - acc: 1.0000 - val_loss: 0.0236 - val_acc: 0.9923\n",
      "Epoch 45/50\n",
      "12/12 [==============================] - 10s 805ms/step - loss: 2.2673e-04 - acc: 1.0000 - val_loss: 0.0096 - val_acc: 0.9954\n",
      "Epoch 46/50\n",
      "12/12 [==============================] - 10s 869ms/step - loss: 5.5329e-04 - acc: 1.0000 - val_loss: 0.0104 - val_acc: 0.9969\n",
      "Epoch 47/50\n",
      "12/12 [==============================] - 10s 806ms/step - loss: 3.7808e-04 - acc: 1.0000 - val_loss: 0.0197 - val_acc: 0.9923\n",
      "Epoch 48/50\n",
      "12/12 [==============================] - 9s 790ms/step - loss: 1.9297e-04 - acc: 1.0000 - val_loss: 0.0088 - val_acc: 0.9938\n",
      "Epoch 49/50\n",
      "12/12 [==============================] - 10s 818ms/step - loss: 2.9327e-04 - acc: 1.0000 - val_loss: 0.0841 - val_acc: 0.9645\n",
      "Epoch 50/50\n",
      "12/12 [==============================] - 10s 857ms/step - loss: 2.1779e-04 - acc: 1.0000 - val_loss: 0.0087 - val_acc: 0.9969\n"
     ]
    }
   ],
   "source": [
    "#Fitting the model\n",
    "num_epochs = 50\n",
    "history = model.fit(train_generator,\n",
    "                    #steps_per_epoch=100,#(image_count-val_size) // batch_size,\n",
    "                    epochs=num_epochs,\n",
    "                    #validation_steps=100,#val_size // batch_size,\n",
    "                    validation_data=validation_generator,\n",
    "                    verbose=1\n",
    "                   )"
   ]
  },
  {
   "cell_type": "markdown",
   "metadata": {},
   "source": [
    "## Visualizing results of the training "
   ]
  },
  {
   "cell_type": "code",
   "execution_count": 14,
   "metadata": {},
   "outputs": [
    {
     "data": {
      "image/png": "[encoded data removed]",
      "text/plain": [
       "<Figure size 432x288 with 1 Axes>"
      ]
     },
     "metadata": {
      "needs_background": "light"
     },
     "output_type": "display_data"
    }
   ],
   "source": [
    "num_epochs = num_epochs\n",
    "loss_train = history.history['loss'][:num_epochs]\n",
    "loss_val = history.history['val_loss'][:num_epochs]\n",
    "epochs = range(1,num_epochs+1)\n",
    "plt.plot(epochs,loss_train, 'orange', label='training loss')\n",
    "plt.plot(epochs, loss_val, 'b', label= 'validation loss')\n",
    "plt.title('Training and Validation loss')\n",
    "plt.xlabel('Epochs')\n",
    "plt.ylabel('Loss')\n",
    "plt.legend()\n",
    "plt.show()"
   ]
  },
  {
   "cell_type": "code",
   "execution_count": 17,
   "metadata": {},
   "outputs": [
    {
     "data": {
      "image/png": "[encoded data removed]",
      "text/plain": [
       "<Figure size 432x288 with 1 Axes>"
      ]
     },
     "metadata": {
      "needs_background": "light"
     },
     "output_type": "display_data"
    }
   ],
   "source": [
    "num_epochs = num_epochs\n",
    "acc_train = history.history['acc'][:num_epochs]\n",
    "acc_val = history.history['val_acc'][:num_epochs]\n",
    "epochs = range(1,num_epochs+1)\n",
    "plt.plot(epochs,acc_train, 'orange', label='training accuracy')\n",
    "plt.plot(epochs, acc_val, 'b', label= 'validation accuracy')\n",
    "plt.title('Training and Validation accuracy')\n",
    "plt.xlabel('Epochs')\n",
    "plt.ylabel('Accuracy')\n",
    "plt.legend()\n",
    "plt.show()"
   ]
  }
 ],
 "metadata": {
  "kernelspec": {
   "display_name": "Python 3",
   "language": "python",
   "name": "python3"
  },
  "language_info": {
   "codemirror_mode": {
    "name": "ipython",
    "version": 3
   },
   "file_extension": ".py",
   "mimetype": "text/x-python",
   "name": "python",
   "nbconvert_exporter": "python",
   "pygments_lexer": "ipython3",
   "version": "3.7.6"
  }
 },
 "nbformat": 4,
 "nbformat_minor": 4
}
